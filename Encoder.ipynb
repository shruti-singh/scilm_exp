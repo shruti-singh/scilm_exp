{
 "cells": [
  {
   "cell_type": "code",
   "execution_count": 1,
   "metadata": {},
   "outputs": [],
   "source": [
    "import pickle"
   ]
  },
  {
   "cell_type": "code",
   "execution_count": 2,
   "metadata": {},
   "outputs": [],
   "source": [
    "from scripts.corrupt_and_encode import CorruptAndEncode"
   ]
  },
  {
   "cell_type": "markdown",
   "metadata": {},
   "source": [
    "### Read a sample dataset - ArxivCSSY"
   ]
  },
  {
   "cell_type": "code",
   "execution_count": 3,
   "metadata": {},
   "outputs": [],
   "source": [
    "data = pickle.load(open('datasets/ArxivCSSY/ArxivCSSY_title_abs.pkl', 'rb'))"
   ]
  },
  {
   "cell_type": "markdown",
   "metadata": {},
   "source": [
    "### Encode"
   ]
  },
  {
   "cell_type": "markdown",
   "metadata": {},
   "source": [
    "##### 1. SPECTER"
   ]
  },
  {
   "cell_type": "code",
   "execution_count": 4,
   "metadata": {},
   "outputs": [],
   "source": [
    "ce = CorruptAndEncode(data, './datasets/ArxivCSSY/emb', model='specter')\n",
    "ce.naive_corrupt_and_encode()\n",
    "ce.corrupt_title()\n",
    "ce.corrupt_abstract()"
   ]
  },
  {
   "cell_type": "code",
   "execution_count": 8,
   "metadata": {},
   "outputs": [
    {
     "name": "stdout",
     "output_type": "stream",
     "text": [
      "emb_abs_adj_ant.pkl\t  emb_pos_del_ADV.pkl\t      emb_q3_del.pkl\r\n",
      "emb_abs_nn_preserve.pkl   emb_pos_del_DET.pkl\t      emb_rand_del.pkl\r\n",
      "emb_abstracts.pkl\t  emb_pos_del_NOUN.pkl\t      emb_rand_shuff.pkl\r\n",
      "emb_a_nn_rep.pkl\t  emb_pos_del_NUM.pkl\t      emb_rotate.pkl\r\n",
      "emb_a_nn_upper.pkl\t  emb_pos_del_PRON.pkl\t      emb_tabs.pkl\r\n",
      "emb_a_nonnn_upper.pkl\t  emb_pos_del_title_ADJ.pkl   emb_tabs_ws.pkl\r\n",
      "emb_asc.pkl\t\t  emb_pos_del_title_DET.pkl   emb_ta_chardel.pkl\r\n",
      "emb_desc.pkl\t\t  emb_pos_del_title_NOUN.pkl  emb_titles.pkl\r\n",
      "emb_nn_del_titleonly.pkl  emb_pos_del_title_VERB.pkl  emb_t_nn_rep.pkl\r\n",
      "emb_nnph_del.pkl\t  emb_pos_del_VERB.pkl\t      emb_t_nn_upper.pkl\r\n",
      "emb_nnph_pardel.pkl\t  emb_q1_del.pkl\t      emb_t_nonnn_upper.pkl\r\n",
      "emb_pos_del_ADJ.pkl\t  emb_q2_del.pkl\r\n"
     ]
    }
   ],
   "source": [
    "!ls datasets/ArxivCSSY/emb/specter"
   ]
  },
  {
   "cell_type": "code",
   "execution_count": null,
   "metadata": {},
   "outputs": [],
   "source": []
  },
  {
   "cell_type": "markdown",
   "metadata": {},
   "source": [
    "##### 2. SCIBERT"
   ]
  },
  {
   "cell_type": "code",
   "execution_count": 5,
   "metadata": {},
   "outputs": [],
   "source": [
    "ce = CorruptAndEncode(data, './datasets/ArxivCSSY/emb', model='scibert')\n",
    "ce.naive_corrupt_and_encode()\n",
    "ce.corrupt_title()\n",
    "ce.corrupt_abstract()"
   ]
  },
  {
   "cell_type": "code",
   "execution_count": null,
   "metadata": {},
   "outputs": [],
   "source": []
  },
  {
   "cell_type": "markdown",
   "metadata": {},
   "source": [
    "##### 3. OAGBERT"
   ]
  },
  {
   "cell_type": "code",
   "execution_count": 7,
   "metadata": {},
   "outputs": [],
   "source": [
    "ce = CorruptAndEncode(data, './datasets/ArxivCSSY/emb', model='oagbert')\n",
    "ce.naive_corrupt_and_encode()\n",
    "ce.corrupt_title()\n",
    "ce.corrupt_abstract()"
   ]
  },
  {
   "cell_type": "code",
   "execution_count": null,
   "metadata": {},
   "outputs": [],
   "source": []
  }
 ],
 "metadata": {
  "kernelspec": {
   "display_name": "Python 3",
   "language": "python",
   "name": "python3"
  },
  "language_info": {
   "codemirror_mode": {
    "name": "ipython",
    "version": 3
   },
   "file_extension": ".py",
   "mimetype": "text/x-python",
   "name": "python",
   "nbconvert_exporter": "python",
   "pygments_lexer": "ipython3",
   "version": "3.6.9"
  }
 },
 "nbformat": 4,
 "nbformat_minor": 5
}
