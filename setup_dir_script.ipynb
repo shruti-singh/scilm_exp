{
 "cells": [
  {
   "cell_type": "markdown",
   "metadata": {},
   "source": [
    "## Mkdir final dataset directory"
   ]
  },
  {
   "cell_type": "code",
   "execution_count": 1,
   "metadata": {},
   "outputs": [],
   "source": [
    "!mkdir datasets"
   ]
  },
  {
   "cell_type": "code",
   "execution_count": 10,
   "metadata": {},
   "outputs": [],
   "source": [
    "!mkdir datasets/ArxivCSDS\n",
    "!mkdir datasets/ArxivCSHC\n",
    "!mkdir datasets/ArxivCSSY"
   ]
  },
  {
   "cell_type": "code",
   "execution_count": 1,
   "metadata": {},
   "outputs": [
    {
     "name": "stdout",
     "output_type": "stream",
     "text": [
      "mkdir: cannot create directory ‘datasets/ArxivCSDS/emb’: File exists\n",
      "mkdir: cannot create directory ‘datasets/ArxivCSHC/emb’: File exists\n",
      "mkdir: cannot create directory ‘datasets/ArxivCSSY/emb’: File exists\n",
      "mkdir: cannot create directory ‘datasets/ArxivCSDS/emb’: File exists\n",
      "mkdir: cannot create directory ‘datasets/ArxivCSHC/emb’: File exists\n",
      "mkdir: cannot create directory ‘datasets/ArxivCSSY/emb’: File exists\n"
     ]
    }
   ],
   "source": [
    "for dataname in ['ArxivCSDS', 'ArxivCSHC', 'ArxivCSSY']:\n",
    "    emb_dir = 'datasets/{}/emb'.format(dataname)\n",
    "    !mkdir $emb_dir\n",
    "    for modelname in ['specter', 'scibert', 'oagbert']:\n",
    "        model_emb_dir = 'datasets/{}/emb/{}/'.format(dataname, modelname)\n",
    "        !mkdir $model_emb_dir"
   ]
  },
  {
   "cell_type": "code",
   "execution_count": 11,
   "metadata": {},
   "outputs": [],
   "source": [
    "!mkdir datasets/ArxivECON\n",
    "!mkdir datasets/ArxivHEPTH\n",
    "!mkdir datasets/ArxivMATHAT\n",
    "!mkdir datasets/ArxivQBIONC\n",
    "!mkdir datasets/ACL\n",
    "!mkdir datasets/ICLR"
   ]
  },
  {
   "cell_type": "code",
   "execution_count": 4,
   "metadata": {},
   "outputs": [
    {
     "name": "stdout",
     "output_type": "stream",
     "text": [
      "mkdir: cannot create directory ‘datasets/ArxivECON/emb’: File exists\r\n"
     ]
    }
   ],
   "source": [
    "for dataname in ['ArxivECON']:\n",
    "    emb_dir = 'datasets/{}/emb'.format(dataname)\n",
    "    !mkdir $emb_dir\n",
    "    for modelname in ['specter', 'scibert', 'oagbert']:\n",
    "        model_emb_dir = 'datasets/{}/emb/{}/'.format(dataname, modelname)\n",
    "        !mkdir $model_emb_dir"
   ]
  },
  {
   "cell_type": "code",
   "execution_count": 5,
   "metadata": {},
   "outputs": [
    {
     "name": "stdout",
     "output_type": "stream",
     "text": [
      "mkdir: cannot create directory ‘datasets/ArxivHEPTH/emb’: File exists\r\n"
     ]
    }
   ],
   "source": [
    "for dataname in ['ArxivHEPTH']:\n",
    "    emb_dir = 'datasets/{}/emb'.format(dataname)\n",
    "    !mkdir $emb_dir\n",
    "    for modelname in ['specter', 'scibert', 'oagbert']:\n",
    "        model_emb_dir = 'datasets/{}/emb/{}/'.format(dataname, modelname)\n",
    "        !mkdir $model_emb_dir"
   ]
  },
  {
   "cell_type": "code",
   "execution_count": 6,
   "metadata": {},
   "outputs": [
    {
     "name": "stdout",
     "output_type": "stream",
     "text": [
      "mkdir: cannot create directory ‘datasets/ArxivMATHAT/emb’: File exists\r\n"
     ]
    }
   ],
   "source": [
    "for dataname in ['ArxivMATHAT']:\n",
    "    emb_dir = 'datasets/{}/emb'.format(dataname)\n",
    "    !mkdir $emb_dir\n",
    "    for modelname in ['specter', 'scibert', 'oagbert']:\n",
    "        model_emb_dir = 'datasets/{}/emb/{}/'.format(dataname, modelname)\n",
    "        !mkdir $model_emb_dir"
   ]
  },
  {
   "cell_type": "code",
   "execution_count": 7,
   "metadata": {},
   "outputs": [
    {
     "name": "stdout",
     "output_type": "stream",
     "text": [
      "mkdir: cannot create directory ‘datasets/ArxivQBIONC/emb’: File exists\r\n"
     ]
    }
   ],
   "source": [
    "for dataname in ['ArxivQBIONC']:\n",
    "    emb_dir = 'datasets/{}/emb'.format(dataname)\n",
    "    !mkdir $emb_dir\n",
    "    for modelname in ['specter', 'scibert', 'oagbert']:\n",
    "        model_emb_dir = 'datasets/{}/emb/{}/'.format(dataname, modelname)\n",
    "        !mkdir $model_emb_dir"
   ]
  },
  {
   "cell_type": "code",
   "execution_count": null,
   "metadata": {},
   "outputs": [],
   "source": [
    "for dataname in ['ICLR']:\n",
    "    emb_dir = 'datasets/{}/emb'.format(dataname)\n",
    "    !mkdir $emb_dir\n",
    "    for modelname in ['specter', 'scibert', 'oagbert']:\n",
    "        model_emb_dir = 'datasets/{}/emb/{}/'.format(dataname, modelname)\n",
    "        !mkdir $model_emb_dir\n",
    "\n",
    "# Download the ICLR file\n",
    "!gdown https://drive.google.com/uc?id=1k8UZ--zNt6L9eZb8iz17Q_qrZx1uoL_j"
   ]
  },
  {
   "cell_type": "code",
   "execution_count": 1,
   "metadata": {},
   "outputs": [
    {
     "name": "stdout",
     "output_type": "stream",
     "text": [
      "Downloading...\n",
      "From: https://drive.google.com/uc?id=1GsaVttXd2M9aAYELfhrc5HKiR2hZk7BW\n",
      "To: /home/singh_shruti/workspace/sciemb/sciemb/ArxivCSDS_title_abs.pkl\n",
      "12.2MB [00:01, 11.7MB/s]\n",
      "Downloading...\n",
      "From: https://drive.google.com/uc?id=1GNju-mMuTjTKn4Vcm2nscewXHa1hV6bb\n",
      "To: /home/singh_shruti/workspace/sciemb/sciemb/ArxivCSHC_title_abs.pkl\n",
      "10.2MB [00:00, 15.2MB/s]\n",
      "Downloading...\n",
      "From: https://drive.google.com/uc?id=1vChOh1pU8bgOjS4FZmpelj4jNZ-5tVWe\n",
      "To: /home/singh_shruti/workspace/sciemb/sciemb/ArxivCSSY_title_abs.pkl\n",
      "12.1MB [00:00, 16.9MB/s]\n",
      "Downloading...\n",
      "From: https://drive.google.com/uc?id=1BRGsU64erEpvEW82Qtw6bEt-sx0-pU8m\n",
      "To: /home/singh_shruti/workspace/sciemb/sciemb/ArxivECON_title_abs.pkl\n",
      "5.29MB [00:00, 9.69MB/s]\n",
      "Downloading...\n",
      "From: https://drive.google.com/uc?id=1k2Kr9cUprTqczfix_cctNfLXNGl3Dw4u\n",
      "To: /home/singh_shruti/workspace/sciemb/sciemb/ArxivHEPTH_title_abs.pkl\n",
      "8.91MB [00:00, 14.4MB/s]\n",
      "Downloading...\n",
      "From: https://drive.google.com/uc?id=14ZmTUFv4qYMXJQ6AcYKb8MjXfzBs1On3\n",
      "To: /home/singh_shruti/workspace/sciemb/sciemb/ArxivMATHAT_title_abs.pkl\n",
      "7.53MB [00:00, 12.4MB/s]\n",
      "Downloading...\n",
      "From: https://drive.google.com/uc?id=1sLvFWFhMZsyOTmdlW_iCRZH-RVChl0ei\n",
      "To: /home/singh_shruti/workspace/sciemb/sciemb/ArxivQBIONC_title_abs.pkl\n",
      "9.19MB [00:00, 12.9MB/s]\n"
     ]
    }
   ],
   "source": [
    "!gdown https://drive.google.com/uc?id=1GsaVttXd2M9aAYELfhrc5HKiR2hZk7BW\n",
    "!gdown https://drive.google.com/uc?id=1GNju-mMuTjTKn4Vcm2nscewXHa1hV6bb\n",
    "!gdown https://drive.google.com/uc?id=1vChOh1pU8bgOjS4FZmpelj4jNZ-5tVWe\n",
    "!gdown https://drive.google.com/uc?id=1BRGsU64erEpvEW82Qtw6bEt-sx0-pU8m\n",
    "!gdown https://drive.google.com/uc?id=1k2Kr9cUprTqczfix_cctNfLXNGl3Dw4u\n",
    "!gdown https://drive.google.com/uc?id=14ZmTUFv4qYMXJQ6AcYKb8MjXfzBs1On3\n",
    "!gdown https://drive.google.com/uc?id=1sLvFWFhMZsyOTmdlW_iCRZH-RVChl0ei"
   ]
  },
  {
   "cell_type": "code",
   "execution_count": null,
   "metadata": {},
   "outputs": [],
   "source": []
  },
  {
   "cell_type": "code",
   "execution_count": 2,
   "metadata": {},
   "outputs": [],
   "source": [
    "in_use_domains = {'data/ARXIV_ALL_cs_DS.pkl': 'ArxivCSDS', \n",
    "                  'data/ARXIV_ALL_cs_SY.pkl': 'ArxivCSSY', \n",
    "                  'data/ARXIV_ALL_econ.pkl': 'ArxivECON', \n",
    "                  'data/ARXIV_ALL_cs_HC.pkl': 'ArxivCSHC', \n",
    "                  'data/ARXIV_ALL_qbionc.pkl': 'ArxivQBIONC', \n",
    "                  'data/ARXIV_ALL_mathat.pkl': 'ArxivMATHAT',\n",
    "                  'data/ARXIV_ALL_hepth.pkl': 'ArxivHEPTH'}"
   ]
  },
  {
   "cell_type": "code",
   "execution_count": 3,
   "metadata": {},
   "outputs": [],
   "source": [
    "for v in in_use_domains.values():\n",
    "    fname = v + \"_title_abs.pkl\"\n",
    "    destination = 'datasets/' + v + '/'\n",
    "    !mv $fname $destination"
   ]
  },
  {
   "cell_type": "code",
   "execution_count": null,
   "metadata": {},
   "outputs": [],
   "source": []
  },
  {
   "cell_type": "code",
   "execution_count": null,
   "metadata": {},
   "outputs": [],
   "source": []
  },
  {
   "cell_type": "code",
   "execution_count": 5,
   "metadata": {},
   "outputs": [],
   "source": [
    "!mkdir other_data_files"
   ]
  },
  {
   "cell_type": "code",
   "execution_count": 6,
   "metadata": {},
   "outputs": [],
   "source": [
    "!mv *.pkl other_data_files/"
   ]
  },
  {
   "cell_type": "code",
   "execution_count": 7,
   "metadata": {},
   "outputs": [],
   "source": [
    "!mv *.zip other_data_files/"
   ]
  },
  {
   "cell_type": "code",
   "execution_count": null,
   "metadata": {},
   "outputs": [],
   "source": []
  },
  {
   "cell_type": "code",
   "execution_count": null,
   "metadata": {},
   "outputs": [],
   "source": []
  },
  {
   "cell_type": "markdown",
   "metadata": {},
   "source": [
    "# Mkdir normalized vector dataset directories"
   ]
  },
  {
   "cell_type": "code",
   "execution_count": 1,
   "metadata": {},
   "outputs": [],
   "source": [
    "!mkdir datasets/NormACL\n",
    "!mkdir datasets/NormArxivCSHC\n",
    "!mkdir datasets/NormArxivECON\n",
    "!mkdir datasets/NormArxivMATHAT\n",
    "!mkdir datasets/NormICLR\n",
    "!mkdir datasets/NormArxivQBIONC\n",
    "!mkdir datasets/NormArxivCSDS\n",
    "!mkdir datasets/NormArxivHEPTH\n",
    "!mkdir datasets/NormArxivCSSY"
   ]
  },
  {
   "cell_type": "code",
   "execution_count": 2,
   "metadata": {},
   "outputs": [],
   "source": [
    "for dataname in ['NormACL', 'NormArxivCSHC', 'NormArxivECON', 'NormArxivMATHAT', 'NormICLR', 'NormArxivQBIONC', 'NormArxivCSDS', 'NormArxivHEPTH', 'NormArxivCSSY']:\n",
    "    emb_dir = 'datasets/{}/emb'.format(dataname)\n",
    "    !mkdir $emb_dir\n",
    "#     for modelname in ['specter', 'scibert', 'oagbert']:\n",
    "#         model_emb_dir = 'datasets/{}/emb/{}/'.format(dataname, modelname)\n",
    "#         !mkdir $model_emb_dir"
   ]
  },
  {
   "cell_type": "code",
   "execution_count": null,
   "metadata": {},
   "outputs": [],
   "source": []
  }
 ],
 "metadata": {
  "kernelspec": {
   "display_name": "Python 3",
   "language": "python",
   "name": "python3"
  },
  "language_info": {
   "codemirror_mode": {
    "name": "ipython",
    "version": 3
   },
   "file_extension": ".py",
   "mimetype": "text/x-python",
   "name": "python",
   "nbconvert_exporter": "python",
   "pygments_lexer": "ipython3",
   "version": "3.6.9"
  }
 },
 "nbformat": 4,
 "nbformat_minor": 5
}
